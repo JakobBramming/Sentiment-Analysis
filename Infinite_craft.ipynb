{
 "cells": [
  {
   "cell_type": "code",
   "execution_count": null,
   "metadata": {},
   "outputs": [
    {
     "data": {
      "text/plain": [
       "Precomputing vocabulary embeddings...\n",
       "Vocabulary embeddings saved to 'vocab_embeddings.npy'\n"
      ]
     },
     "metadata": {},
     "output_type": "display_data"
    }
   ],
   "source": [
    "from transformers import AutoTokenizer, AutoModel\n",
    "import torch\n",
    "import numpy as np\n",
    "\n",
    "# Load tokenizer and model\n",
    "tokenizer = AutoTokenizer.from_pretrained('distilbert-base-uncased')\n",
    "model = AutoModel.from_pretrained('distilbert-base-uncased', output_hidden_states=True)\n",
    "\n",
    "# Function to get embeddings for words\n",
    "def get_embedding(word):\n",
    "    inputs = tokenizer(word, return_tensors=\"pt\")\n",
    "    with torch.no_grad():\n",
    "        outputs = model(**inputs)\n",
    "    hidden_states = outputs.hidden_states[-1]\n",
    "    return hidden_states.mean(dim=1).squeeze().numpy()\n",
    "\n",
    "# Precompute embeddings for vocabulary\n",
    "vocab = tokenizer.get_vocab()\n",
    "vocab_words = list(vocab.keys())\n",
    "embeddings = []\n",
    "\n",
    "print(\"Precomputing vocabulary embeddings...\")\n",
    "for word in vocab_words:\n",
    "    embedding = get_embedding(word)\n",
    "    embeddings.append(embedding)\n",
    "\n",
    "# Save precomputed embeddings\n",
    "np.save('vocab_embeddings.npy', embeddings)\n",
    "print(\"Vocabulary embeddings saved to 'vocab_embeddings.npy'\")\n",
    "\n",
    "# Load precomputed embeddings\n",
    "embeddings = np.load('vocab_embeddings.npy')"
   ]
  },
  {
   "cell_type": "code",
   "execution_count": null,
   "metadata": {},
   "outputs": [
    {
     "data": {
      "text/plain": [
       "(30522, 768)\n"
      ]
     },
     "metadata": {},
     "output_type": "display_data"
    }
   ],
   "source": [
    "# Tjek size of vocabulary embeddings\n",
    "print(embeddings.shape)"
   ]
  },
  {
   "cell_type": "code",
   "execution_count": null,
   "metadata": {},
   "outputs": [
    {
     "data": {
      "text/plain": [
       "Traceback (most recent call last):\n",
       "  File \"/Users/jakobbramming/.vscode/extensions/ms-python.python-2024.22.0-darwin-x64/python_files/python_server.py\", line 133, in exec_user_input\n",
       "    retval = callable_(user_input, user_globals)\n",
       "             ^^^^^^^^^^^^^^^^^^^^^^^^^^^^^^^^^^^\n",
       "  File \"<string>\", line 21, in <module>\n",
       "  File \"<string>\", line 4, in find_closest_words_to_embedding\n",
       "  File \"/Users/jakobbramming/anaconda3/lib/python3.11/site-packages/sklearn/utils/_param_validation.py\", line 211, in wrapper\n",
       "    return func(*args, **kwargs)\n",
       "           ^^^^^^^^^^^^^^^^^^^^^\n",
       "  File \"/Users/jakobbramming/anaconda3/lib/python3.11/site-packages/sklearn/metrics/pairwise.py\", line 1577, in cosine_similarity\n",
       "    X, Y = check_pairwise_arrays(X, Y)\n",
       "           ^^^^^^^^^^^^^^^^^^^^^^^^^^^\n",
       "  File \"/Users/jakobbramming/anaconda3/lib/python3.11/site-packages/sklearn/metrics/pairwise.py\", line 165, in check_pairwise_arrays\n",
       "    X = check_array(\n",
       "        ^^^^^^^^^^^^\n",
       "  File \"/Users/jakobbramming/anaconda3/lib/python3.11/site-packages/sklearn/utils/validation.py\", line 953, in check_array\n",
       "    raise ValueError(\n",
       "ValueError: Found array with dim 3. check_pairwise_arrays expected <= 2.\n",
       "\n"
      ]
     },
     "metadata": {},
     "output_type": "display_data"
    }
   ],
   "source": [
    "\n",
    "# Function to find 5 closest words to a given embedding combination\n",
    "def find_closest_words_to_embedding(embedding, embeddings, vocab_words, top_k=5):\n",
    "    similarities = cosine_similarity([embedding], embeddings)[0]\n",
    "    closest_indices = similarities.argsort()[-top_k:][::-1]\n",
    "    closest_words = [(vocab_words[i], similarities[i]) for i in closest_indices]\n",
    "    return closest_words\n",
    "\n",
    "# Function to combine embeddings\n",
    "def combine_embeddings(word1, word2):\n",
    "    embedding1 = get_embedding(word1)\n",
    "    embedding2 = get_embedding(word2)\n",
    "    combined_embedding =embedding1 + embedding2\n",
    "    return combined_embedding\n",
    "\n",
    "\n",
    "word1 = \"hate\"\n",
    "word2 = \"love\"\n",
    "result_vector = combine_embeddings(word1, word2)\n",
    "embedding = get_embedding(word)\n",
    "closest_words = find_closest_words_to_embedding(result_vector, embeddings, vocab_words)\n",
    "print(f\"The five closest words to '{word1}' and '{word2}' are: {closest_words}\")\n",
    "\n"
   ]
  },
  {
   "cell_type": "code",
   "execution_count": null,
   "metadata": {},
   "outputs": [
    {
     "data": {
      "text/plain": [
       "Traceback (most recent call last):\n",
       "  File \"/Users/jakobbramming/.vscode/extensions/ms-python.python-2024.22.0-darwin-x64/python_files/python_server.py\", line 133, in exec_user_input\n",
       "    retval = callable_(user_input, user_globals)\n",
       "             ^^^^^^^^^^^^^^^^^^^^^^^^^^^^^^^^^^^\n",
       "  File \"<string>\", line 27, in <module>\n",
       "  File \"<string>\", line 8, in combine_and_find_closest_words\n",
       "  File \"/Users/jakobbramming/anaconda3/lib/python3.11/site-packages/sklearn/utils/_param_validation.py\", line 211, in wrapper\n",
       "    return func(*args, **kwargs)\n",
       "           ^^^^^^^^^^^^^^^^^^^^^\n",
       "  File \"/Users/jakobbramming/anaconda3/lib/python3.11/site-packages/sklearn/metrics/pairwise.py\", line 1577, in cosine_similarity\n",
       "    X, Y = check_pairwise_arrays(X, Y)\n",
       "           ^^^^^^^^^^^^^^^^^^^^^^^^^^^\n",
       "  File \"/Users/jakobbramming/anaconda3/lib/python3.11/site-packages/sklearn/metrics/pairwise.py\", line 165, in check_pairwise_arrays\n",
       "    X = check_array(\n",
       "        ^^^^^^^^^^^^\n",
       "  File \"/Users/jakobbramming/anaconda3/lib/python3.11/site-packages/sklearn/utils/validation.py\", line 953, in check_array\n",
       "    raise ValueError(\n",
       "ValueError: Found array with dim 3. check_pairwise_arrays expected <= 2.\n",
       "\n"
      ]
     },
     "metadata": {},
     "output_type": "display_data"
    }
   ],
   "source": [
    "\n",
    "def combine_and_find_closest_words(word1, word2, embeddings, vocab_words, top_k=1):\n",
    "    embedding1 = get_embedding(word1)\n",
    "    embedding2 = get_embedding(word2)\n",
    "    combined_embedding = embedding1 + embedding2\n",
    "\n",
    "    # Compute cosine similarity between the combined embedding and all embeddings\n",
    "    similarities = cosine_similarity([combined_embedding], embeddings)[0]\n",
    "\n",
    "    # Sort indices by similarity in descending order\n",
    "    sorted_indices = similarities.argsort()[::-1]\n",
    "\n",
    "    # Filter out words that match word1 or word2\n",
    "    closest_word = []\n",
    "    for i in sorted_indices:\n",
    "        candidate_word = vocab_words[i]\n",
    "        if candidate_word != word1 and candidate_word != word2:\n",
    "            closest_word.append((candidate_word, similarities[i]))\n",
    "            if len(closest_word) == top_k:  \n",
    "                break\n",
    "\n",
    "    return closest_word\n",
    "\n",
    "    \n",
    "word1 = \"earth\"\n",
    "word2 = \"water\"\n",
    "closest_word = combine_and_find_closest_words(word1, word2, embeddings, vocab_words)\n",
    "print(f\"The closest word to the combination of '{word1}' and '{word2}' is: {closest_word}\")"
   ]
  },
  {
   "cell_type": "code",
   "execution_count": null,
   "metadata": {},
   "outputs": [
    {
     "data": {
      "text/plain": [
       "The closest word to the combination of 'hate' and 'love' is: [('resentment', 0.9706785)]\n",
       "['earth', 'water', 'fire', 'wind', 'resentment']\n"
      ]
     },
     "metadata": {},
     "output_type": "display_data"
    }
   ],
   "source": [
    "#Inititate list of discovered items\n",
    "discovered_items = ['earth', 'water','fire', 'wind']\n",
    "\n",
    "#Choose 2 items to combine\n",
    "item1 = \"earth\"\n",
    "item2 = \"water\"\n",
    "\n",
    "closest_word = combine_and_find_closest_words(item1, item2, embeddings, vocab_words)\n",
    "print(f\"The closest word to the combination of '{word1}' and '{word2}' is: {closest_word}\")\n",
    "discovered_items.append(closest_word[0][0])\n",
    "\n",
    "print(discovered_items)"
   ]
  }
 ],
 "metadata": {
  "language_info": {
   "name": "python"
  }
 },
 "nbformat": 4,
 "nbformat_minor": 2
}
